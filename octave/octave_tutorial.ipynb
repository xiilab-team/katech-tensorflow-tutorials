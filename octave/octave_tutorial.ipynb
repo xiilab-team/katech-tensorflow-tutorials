{
 "cells": [
  {
   "cell_type": "markdown",
   "id": "civilian-receipt",
   "metadata": {},
   "source": [
    "### Initialization."
   ]
  },
  {
   "cell_type": "code",
   "execution_count": 1,
   "id": "korean-checklist",
   "metadata": {},
   "outputs": [],
   "source": [
    "clear; close all; clc;"
   ]
  },
  {
   "cell_type": "markdown",
   "id": "outstanding-spanish",
   "metadata": {},
   "source": [
    "### Load training data"
   ]
  },
  {
   "cell_type": "code",
   "execution_count": 2,
   "id": "welsh-honolulu",
   "metadata": {},
   "outputs": [
    {
     "name": "stdout",
     "output_type": "stream",
     "text": [
      "Loading data...\r\n"
     ]
    }
   ],
   "source": [
    "% Load training data ----------------------------------------------------------------\n",
    "fprintf('Loading data...\\n');"
   ]
  },
  {
   "cell_type": "code",
   "execution_count": 3,
   "id": "innovative-marine",
   "metadata": {},
   "outputs": [],
   "source": [
    "load('digits.mat');\n",
    "m = size(X, 1);"
   ]
  },
  {
   "cell_type": "markdown",
   "id": "clear-clearing",
   "metadata": {},
   "source": [
    "### Plotting some training example"
   ]
  },
  {
   "cell_type": "code",
   "execution_count": 4,
   "id": "valued-engagement",
   "metadata": {},
   "outputs": [
    {
     "name": "stdout",
     "output_type": "stream",
     "text": [
      "Visualizing data...\r\n"
     ]
    }
   ],
   "source": [
    "fprintf('Visualizing data...\\n');"
   ]
  },
  {
   "cell_type": "markdown",
   "id": "indonesian-republican",
   "metadata": {},
   "source": [
    "### Randomly select 100 data points to display"
   ]
  },
  {
   "cell_type": "code",
   "execution_count": 5,
   "id": "loose-solid",
   "metadata": {},
   "outputs": [
    {
     "data": {
      "image/png": "[encoded data removed]",
      "text/plain": [
       "<IPython.core.display.Image object>"
      ]
     },
     "metadata": {},
     "output_type": "display_data"
    }
   ],
   "source": [
    "random_digits_indices = randperm(size(X, 1));\n",
    "random_digits_indices = random_digits_indices(1:100);\n",
    "\n",
    "display_data(X(random_digits_indices, :));"
   ]
  },
  {
   "cell_type": "markdown",
   "id": "double-stereo",
   "metadata": {},
   "source": [
    "### Initializing neural network parameters"
   ]
  },
  {
   "cell_type": "code",
   "execution_count": 6,
   "id": "frozen-debate",
   "metadata": {},
   "outputs": [
    {
     "name": "stdout",
     "output_type": "stream",
     "text": [
      "Initializing neural network parameters...\r\n"
     ]
    }
   ],
   "source": [
    "% Initializing neural network parameters --------------------------------------------\n",
    "fprintf('Initializing neural network parameters...\\n');"
   ]
  },
  {
   "cell_type": "markdown",
   "id": "killing-interim",
   "metadata": {},
   "source": [
    "### Setup neural network parameter."
   ]
  },
  {
   "cell_type": "code",
   "execution_count": 7,
   "id": "signed-debate",
   "metadata": {},
   "outputs": [],
   "source": [
    "layers = [\n",
    "    400,    % Input layer - 20x20 Input images of digits.\n",
    "    25,     % First hidden layer - 25 hidden units.\n",
    "%   15,     % Second hidden layer - 10 hidden units.\n",
    "    10      % Output layer - 10 labels, from 1 to 10 (note that we have mapped \"0\" to label 10).\n",
    "];"
   ]
  },
  {
   "cell_type": "markdown",
   "id": "tracked-purchase",
   "metadata": {},
   "source": [
    "### Training neural network"
   ]
  },
  {
   "cell_type": "code",
   "execution_count": 8,
   "id": "grand-retro",
   "metadata": {},
   "outputs": [
    {
     "name": "stdout",
     "output_type": "stream",
     "text": [
      "Training neural network...\r\n"
     ]
    }
   ],
   "source": [
    "fprintf('Training neural network...\\n');"
   ]
  },
  {
   "cell_type": "markdown",
   "id": "competitive-scientist",
   "metadata": {},
   "source": [
    "### Defines the range for initial theta values."
   ]
  },
  {
   "cell_type": "code",
   "execution_count": 9,
   "id": "fatty-guyana",
   "metadata": {},
   "outputs": [],
   "source": [
    "epsilon = 0.12;"
   ]
  },
  {
   "cell_type": "markdown",
   "id": "resistant-parts",
   "metadata": {},
   "source": [
    "### Regularization parameter."
   ]
  },
  {
   "cell_type": "code",
   "execution_count": 10,
   "id": "saving-voice",
   "metadata": {},
   "outputs": [],
   "source": [
    "lambda = 0.01;"
   ]
  },
  {
   "cell_type": "markdown",
   "id": "demographic-medication",
   "metadata": {},
   "source": [
    "### Number of iterations to perform for gradient descent."
   ]
  },
  {
   "cell_type": "code",
   "execution_count": 11,
   "id": "durable-northeast",
   "metadata": {},
   "outputs": [],
   "source": [
    "max_iterations = 30;"
   ]
  },
  {
   "cell_type": "markdown",
   "id": "continued-florence",
   "metadata": {},
   "source": [
    "### Train neural network."
   ]
  },
  {
   "cell_type": "code",
   "execution_count": 12,
   "id": "irish-chuck",
   "metadata": {},
   "outputs": [
    {
     "name": "stdout",
     "output_type": "stream",
     "text": [
      "Iteration    30 | Cost: 5.074569e-01\n"
     ]
    }
   ],
   "source": [
    "[nn_params, cost] = neural_network_train(X, y, layers, lambda, epsilon, max_iterations);"
   ]
  },
  {
   "cell_type": "markdown",
   "id": "secure-panama",
   "metadata": {},
   "source": [
    "### Calculate training set accuracy"
   ]
  },
  {
   "cell_type": "code",
   "execution_count": 13,
   "id": "royal-kinase",
   "metadata": {},
   "outputs": [
    {
     "name": "stdout",
     "output_type": "stream",
     "text": [
      "Calculate training set accuracy...\r\n"
     ]
    }
   ],
   "source": [
    "fprintf('Calculate training set accuracy...\\n');"
   ]
  },
  {
   "cell_type": "markdown",
   "id": "allied-disabled",
   "metadata": {},
   "source": [
    "### After training the neural network, we would like to use it to predict the labels"
   ]
  },
  {
   "cell_type": "code",
   "execution_count": 14,
   "id": "medical-weather",
   "metadata": {},
   "outputs": [],
   "source": [
    "predictions = neural_network_predict(X, nn_params, layers);"
   ]
  },
  {
   "cell_type": "code",
   "execution_count": 15,
   "id": "checked-fraud",
   "metadata": {},
   "outputs": [
    {
     "name": "stdout",
     "output_type": "stream",
     "text": [
      "Training Set Accuracy: 92.960000\r\n"
     ]
    }
   ],
   "source": [
    "fprintf('Training Set Accuracy: %f\\n', mean(double(predictions == y)) * 100);"
   ]
  },
  {
   "cell_type": "code",
   "execution_count": null,
   "id": "dimensional-nursery",
   "metadata": {},
   "outputs": [],
   "source": []
  }
 ],
 "metadata": {
  "kernelspec": {
   "display_name": "Octave",
   "language": "octave",
   "name": "octave"
  },
  "language_info": {
   "file_extension": ".m",
   "help_links": [
    {
     "text": "GNU Octave",
     "url": "https://www.gnu.org/software/octave/support.html"
    },
    {
     "text": "Octave Kernel",
     "url": "https://github.com/Calysto/octave_kernel"
    },
    {
     "text": "MetaKernel Magics",
     "url": "https://metakernel.readthedocs.io/en/latest/source/README.html"
    }
   ],
   "mimetype": "text/x-octave",
   "name": "octave",
   "version": "4.2.2"
  }
 },
 "nbformat": 4,
 "nbformat_minor": 5
}
